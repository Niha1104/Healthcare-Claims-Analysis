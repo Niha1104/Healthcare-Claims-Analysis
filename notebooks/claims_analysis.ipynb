{
 "cells": [
  {
   "cell_type": "code",
   "execution_count": 3,
   "id": "056e1ba1",
   "metadata": {},
   "outputs": [],
   "source": [
    "import pandas as pd"
   ]
  },
  {
   "cell_type": "code",
   "execution_count": 4,
   "id": "22d44fb5",
   "metadata": {},
   "outputs": [],
   "source": [
    "df = pd.read_csv(\"../data/claims_data.csv\")"
   ]
  },
  {
   "cell_type": "code",
   "execution_count": 5,
   "id": "a1458e2f",
   "metadata": {},
   "outputs": [
    {
     "data": {
      "text/html": [
       "<div>\n",
       "<style scoped>\n",
       "    .dataframe tbody tr th:only-of-type {\n",
       "        vertical-align: middle;\n",
       "    }\n",
       "\n",
       "    .dataframe tbody tr th {\n",
       "        vertical-align: top;\n",
       "    }\n",
       "\n",
       "    .dataframe thead th {\n",
       "        text-align: right;\n",
       "    }\n",
       "</style>\n",
       "<table border=\"1\" class=\"dataframe\">\n",
       "  <thead>\n",
       "    <tr style=\"text-align: right;\">\n",
       "      <th></th>\n",
       "      <th>Claim_ID</th>\n",
       "      <th>Provider_ID</th>\n",
       "      <th>Procedure_Code</th>\n",
       "      <th>Procedure_Description</th>\n",
       "      <th>Submitted_Charge</th>\n",
       "      <th>Payment_Amount</th>\n",
       "      <th>Patient_Age</th>\n",
       "      <th>Patient_Gender</th>\n",
       "    </tr>\n",
       "  </thead>\n",
       "  <tbody>\n",
       "    <tr>\n",
       "      <th>0</th>\n",
       "      <td>101</td>\n",
       "      <td>P001</td>\n",
       "      <td>99213</td>\n",
       "      <td>Office Visit</td>\n",
       "      <td>150.0</td>\n",
       "      <td>100.0</td>\n",
       "      <td>65</td>\n",
       "      <td>F</td>\n",
       "    </tr>\n",
       "    <tr>\n",
       "      <th>1</th>\n",
       "      <td>102</td>\n",
       "      <td>P002</td>\n",
       "      <td>99214</td>\n",
       "      <td>Extended Visit</td>\n",
       "      <td>200.0</td>\n",
       "      <td>150.0</td>\n",
       "      <td>72</td>\n",
       "      <td>M</td>\n",
       "    </tr>\n",
       "    <tr>\n",
       "      <th>2</th>\n",
       "      <td>103</td>\n",
       "      <td>P001</td>\n",
       "      <td>99213</td>\n",
       "      <td>Office Visit</td>\n",
       "      <td>150.0</td>\n",
       "      <td>100.0</td>\n",
       "      <td>58</td>\n",
       "      <td>M</td>\n",
       "    </tr>\n",
       "    <tr>\n",
       "      <th>3</th>\n",
       "      <td>104</td>\n",
       "      <td>P003</td>\n",
       "      <td>93000</td>\n",
       "      <td>EKG</td>\n",
       "      <td>100.0</td>\n",
       "      <td>90.0</td>\n",
       "      <td>80</td>\n",
       "      <td>F</td>\n",
       "    </tr>\n",
       "    <tr>\n",
       "      <th>4</th>\n",
       "      <td>105</td>\n",
       "      <td>P002</td>\n",
       "      <td>99214</td>\n",
       "      <td>Extended Visit</td>\n",
       "      <td>210.0</td>\n",
       "      <td>155.0</td>\n",
       "      <td>69</td>\n",
       "      <td>F</td>\n",
       "    </tr>\n",
       "  </tbody>\n",
       "</table>\n",
       "</div>"
      ],
      "text/plain": [
       "   Claim_ID Provider_ID  Procedure_Code Procedure_Description  \\\n",
       "0       101        P001           99213          Office Visit   \n",
       "1       102        P002           99214        Extended Visit   \n",
       "2       103        P001           99213          Office Visit   \n",
       "3       104        P003           93000                   EKG   \n",
       "4       105        P002           99214        Extended Visit   \n",
       "\n",
       "   Submitted_Charge  Payment_Amount  Patient_Age Patient_Gender  \n",
       "0             150.0           100.0           65              F  \n",
       "1             200.0           150.0           72              M  \n",
       "2             150.0           100.0           58              M  \n",
       "3             100.0            90.0           80              F  \n",
       "4             210.0           155.0           69              F  "
      ]
     },
     "execution_count": 5,
     "metadata": {},
     "output_type": "execute_result"
    }
   ],
   "source": [
    "df.head()"
   ]
  },
  {
   "cell_type": "code",
   "execution_count": 6,
   "id": "138828b1",
   "metadata": {},
   "outputs": [
    {
     "data": {
      "text/plain": [
       "Claim_ID                 0\n",
       "Provider_ID              0\n",
       "Procedure_Code           0\n",
       "Procedure_Description    0\n",
       "Submitted_Charge         0\n",
       "Payment_Amount           0\n",
       "Patient_Age              0\n",
       "Patient_Gender           0\n",
       "dtype: int64"
      ]
     },
     "execution_count": 6,
     "metadata": {},
     "output_type": "execute_result"
    }
   ],
   "source": [
    "df.isnull().sum()"
   ]
  },
  {
   "cell_type": "code",
   "execution_count": 8,
   "id": "20e5ec01",
   "metadata": {},
   "outputs": [],
   "source": [
    "import pandas as pd\n",
    "df = pd.read_csv(\"../data/claims_data.csv\")"
   ]
  },
  {
   "cell_type": "code",
   "execution_count": 9,
   "id": "941f16fb",
   "metadata": {},
   "outputs": [
    {
     "data": {
      "text/plain": [
       "Claim_ID                 0\n",
       "Provider_ID              0\n",
       "Procedure_Code           0\n",
       "Procedure_Description    0\n",
       "Submitted_Charge         0\n",
       "Payment_Amount           0\n",
       "Patient_Age              0\n",
       "Patient_Gender           0\n",
       "dtype: int64"
      ]
     },
     "execution_count": 9,
     "metadata": {},
     "output_type": "execute_result"
    }
   ],
   "source": [
    "df.isnull().sum()"
   ]
  },
  {
   "cell_type": "code",
   "execution_count": 10,
   "id": "403cd8d7",
   "metadata": {},
   "outputs": [
    {
     "data": {
      "text/plain": [
       "Claim_ID                   int64\n",
       "Provider_ID               object\n",
       "Procedure_Code             int64\n",
       "Procedure_Description     object\n",
       "Submitted_Charge         float64\n",
       "Payment_Amount           float64\n",
       "Patient_Age                int64\n",
       "Patient_Gender            object\n",
       "dtype: object"
      ]
     },
     "execution_count": 10,
     "metadata": {},
     "output_type": "execute_result"
    }
   ],
   "source": [
    "df.dtypes"
   ]
  },
  {
   "cell_type": "code",
   "execution_count": 11,
   "id": "ef33bc1d",
   "metadata": {},
   "outputs": [
    {
     "data": {
      "text/html": [
       "<div>\n",
       "<style scoped>\n",
       "    .dataframe tbody tr th:only-of-type {\n",
       "        vertical-align: middle;\n",
       "    }\n",
       "\n",
       "    .dataframe tbody tr th {\n",
       "        vertical-align: top;\n",
       "    }\n",
       "\n",
       "    .dataframe thead th {\n",
       "        text-align: right;\n",
       "    }\n",
       "</style>\n",
       "<table border=\"1\" class=\"dataframe\">\n",
       "  <thead>\n",
       "    <tr style=\"text-align: right;\">\n",
       "      <th></th>\n",
       "      <th>Claim_ID</th>\n",
       "      <th>Procedure_Code</th>\n",
       "      <th>Submitted_Charge</th>\n",
       "      <th>Payment_Amount</th>\n",
       "      <th>Patient_Age</th>\n",
       "    </tr>\n",
       "  </thead>\n",
       "  <tbody>\n",
       "    <tr>\n",
       "      <th>count</th>\n",
       "      <td>5.000000</td>\n",
       "      <td>5.000000</td>\n",
       "      <td>5.000000</td>\n",
       "      <td>5.000000</td>\n",
       "      <td>5.000000</td>\n",
       "    </tr>\n",
       "    <tr>\n",
       "      <th>mean</th>\n",
       "      <td>103.000000</td>\n",
       "      <td>97970.800000</td>\n",
       "      <td>162.000000</td>\n",
       "      <td>119.000000</td>\n",
       "      <td>68.800000</td>\n",
       "    </tr>\n",
       "    <tr>\n",
       "      <th>std</th>\n",
       "      <td>1.581139</td>\n",
       "      <td>2778.761721</td>\n",
       "      <td>44.384682</td>\n",
       "      <td>30.903074</td>\n",
       "      <td>8.167007</td>\n",
       "    </tr>\n",
       "    <tr>\n",
       "      <th>min</th>\n",
       "      <td>101.000000</td>\n",
       "      <td>93000.000000</td>\n",
       "      <td>100.000000</td>\n",
       "      <td>90.000000</td>\n",
       "      <td>58.000000</td>\n",
       "    </tr>\n",
       "    <tr>\n",
       "      <th>25%</th>\n",
       "      <td>102.000000</td>\n",
       "      <td>99213.000000</td>\n",
       "      <td>150.000000</td>\n",
       "      <td>100.000000</td>\n",
       "      <td>65.000000</td>\n",
       "    </tr>\n",
       "    <tr>\n",
       "      <th>50%</th>\n",
       "      <td>103.000000</td>\n",
       "      <td>99213.000000</td>\n",
       "      <td>150.000000</td>\n",
       "      <td>100.000000</td>\n",
       "      <td>69.000000</td>\n",
       "    </tr>\n",
       "    <tr>\n",
       "      <th>75%</th>\n",
       "      <td>104.000000</td>\n",
       "      <td>99214.000000</td>\n",
       "      <td>200.000000</td>\n",
       "      <td>150.000000</td>\n",
       "      <td>72.000000</td>\n",
       "    </tr>\n",
       "    <tr>\n",
       "      <th>max</th>\n",
       "      <td>105.000000</td>\n",
       "      <td>99214.000000</td>\n",
       "      <td>210.000000</td>\n",
       "      <td>155.000000</td>\n",
       "      <td>80.000000</td>\n",
       "    </tr>\n",
       "  </tbody>\n",
       "</table>\n",
       "</div>"
      ],
      "text/plain": [
       "         Claim_ID  Procedure_Code  Submitted_Charge  Payment_Amount  \\\n",
       "count    5.000000        5.000000          5.000000        5.000000   \n",
       "mean   103.000000    97970.800000        162.000000      119.000000   \n",
       "std      1.581139     2778.761721         44.384682       30.903074   \n",
       "min    101.000000    93000.000000        100.000000       90.000000   \n",
       "25%    102.000000    99213.000000        150.000000      100.000000   \n",
       "50%    103.000000    99213.000000        150.000000      100.000000   \n",
       "75%    104.000000    99214.000000        200.000000      150.000000   \n",
       "max    105.000000    99214.000000        210.000000      155.000000   \n",
       "\n",
       "       Patient_Age  \n",
       "count     5.000000  \n",
       "mean     68.800000  \n",
       "std       8.167007  \n",
       "min      58.000000  \n",
       "25%      65.000000  \n",
       "50%      69.000000  \n",
       "75%      72.000000  \n",
       "max      80.000000  "
      ]
     },
     "execution_count": 11,
     "metadata": {},
     "output_type": "execute_result"
    }
   ],
   "source": [
    "df.describe()"
   ]
  },
  {
   "cell_type": "code",
   "execution_count": 12,
   "id": "1a99328d",
   "metadata": {},
   "outputs": [
    {
     "data": {
      "text/plain": [
       "Office Visit      2\n",
       "Extended Visit    2\n",
       "EKG               1\n",
       "Name: Procedure_Description, dtype: int64"
      ]
     },
     "execution_count": 12,
     "metadata": {},
     "output_type": "execute_result"
    }
   ],
   "source": [
    "df['Procedure_Description'].value_counts()"
   ]
  },
  {
   "cell_type": "code",
   "execution_count": 13,
   "id": "2ef6e92a",
   "metadata": {},
   "outputs": [
    {
     "data": {
      "text/plain": [
       "Procedure_Description\n",
       "EKG               100.0\n",
       "Extended Visit    205.0\n",
       "Office Visit      150.0\n",
       "Name: Submitted_Charge, dtype: float64"
      ]
     },
     "execution_count": 13,
     "metadata": {},
     "output_type": "execute_result"
    }
   ],
   "source": [
    "df.groupby(\"Procedure_Description\")[\"Submitted_Charge\"].mean()"
   ]
  },
  {
   "cell_type": "code",
   "execution_count": 14,
   "id": "9439f5d1",
   "metadata": {},
   "outputs": [
    {
     "data": {
      "text/plain": [
       "Provider_ID\n",
       "P001    100.0\n",
       "P002    152.5\n",
       "P003     90.0\n",
       "Name: Payment_Amount, dtype: float64"
      ]
     },
     "execution_count": 14,
     "metadata": {},
     "output_type": "execute_result"
    }
   ],
   "source": [
    "df.groupby(\"Provider_ID\")[\"Payment_Amount\"].mean()"
   ]
  },
  {
   "cell_type": "code",
   "execution_count": null,
   "id": "142c10c1",
   "metadata": {},
   "outputs": [],
   "source": []
  }
 ],
 "metadata": {
  "kernelspec": {
   "display_name": "Python 3 (ipykernel)",
   "language": "python",
   "name": "python3"
  },
  "language_info": {
   "codemirror_mode": {
    "name": "ipython",
    "version": 3
   },
   "file_extension": ".py",
   "mimetype": "text/x-python",
   "name": "python",
   "nbconvert_exporter": "python",
   "pygments_lexer": "ipython3",
   "version": "3.10.9"
  }
 },
 "nbformat": 4,
 "nbformat_minor": 5
}
